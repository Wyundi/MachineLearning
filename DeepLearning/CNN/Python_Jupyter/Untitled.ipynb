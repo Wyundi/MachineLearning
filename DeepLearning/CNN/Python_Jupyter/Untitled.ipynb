{
 "cells": [
  {
   "cell_type": "code",
   "execution_count": 4,
   "metadata": {},
   "outputs": [],
   "source": [
    "# import numpy as np\n",
    "\n",
    "D = 784    # data's dim\n",
    "K = 10     # feature\n",
    "N = 128    # Number of data\n",
    "\n",
    "X = np.random.randn(N, D)\n",
    "W = 0.01 * np.random.randn(D, K)\n",
    "b = np.zeros((1, K))\n",
    "\n",
    "scores = np.dot(X, W) + b"
   ]
  },
  {
   "cell_type": "code",
   "execution_count": null,
   "metadata": {},
   "outputs": [],
   "source": []
  }
 ],
 "metadata": {
  "kernelspec": {
   "display_name": "Python 3",
   "language": "python",
   "name": "python3"
  },
  "language_info": {
   "codemirror_mode": {
    "name": "ipython",
    "version": 3
   },
   "file_extension": ".py",
   "mimetype": "text/x-python",
   "name": "python",
   "nbconvert_exporter": "python",
   "pygments_lexer": "ipython3",
   "version": "3.6.7"
  }
 },
 "nbformat": 4,
 "nbformat_minor": 2
}
